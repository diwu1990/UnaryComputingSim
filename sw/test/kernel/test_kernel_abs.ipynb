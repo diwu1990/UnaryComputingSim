{
 "cells": [
  {
   "cell_type": "code",
   "execution_count": 1,
   "metadata": {},
   "outputs": [],
   "source": [
    "%load_ext autoreload\n",
    "%autoreload 2"
   ]
  },
  {
   "cell_type": "code",
   "execution_count": 2,
   "metadata": {},
   "outputs": [],
   "source": [
    "import torch\n",
    "from UnarySim.sw.kernel.abs import UnaryAbs\n",
    "from UnarySim.sw.stream.gen import RNG, SourceGen, BSGen\n",
    "from UnarySim.sw.metric.metric import ProgressiveError\n",
    "import matplotlib.pyplot as plt\n",
    "import time\n",
    "import numpy as np"
   ]
  },
  {
   "cell_type": "code",
   "execution_count": 3,
   "metadata": {},
   "outputs": [],
   "source": [
    "device = torch.device(\"cuda:0\" if torch.cuda.is_available() else \"cpu\")"
   ]
  },
  {
   "cell_type": "code",
   "execution_count": 4,
   "metadata": {},
   "outputs": [],
   "source": [
    "def test(rng=\"Sobol\", \n",
    "         mode=\"bipolar\", \n",
    "         bitwidth=8, \n",
    "         total_cnt=100, \n",
    "         depth=5, \n",
    "         shiftreg=False, \n",
    "         interleave=False):\n",
    "    stype = torch.float\n",
    "    rtype = torch.float\n",
    "    \n",
    "    print(\"========================================================\")\n",
    "    print(mode)\n",
    "    print(\"========================================================\")\n",
    "    # all input values are non-negative\n",
    "    low_bound = 0\n",
    "    if mode is \"unipolar\":\n",
    "        up_bound = 2**bitwidth\n",
    "    elif mode is \"bipolar\":\n",
    "        low_bound = -2**(bitwidth-1)\n",
    "        up_bound = 2**(bitwidth-1)\n",
    "\n",
    "    input_list = []\n",
    "    for input_val in range(low_bound, up_bound+1, 1):\n",
    "        input_list.append(input_val)\n",
    "    \n",
    "    input = torch.tensor(input_list).type(torch.float).div(up_bound).to(device)\n",
    "#     input = torch.tensor([-1/256]).type(torch.float).div(up_bound).to(device)\n",
    "\n",
    "    output = torch.abs(input).to(device)\n",
    "    \n",
    "    result_pe_total = []\n",
    "    for rand_idx in range(1, total_cnt+1):\n",
    "        outputPE = ProgressiveError(output, mode=mode).to(device)\n",
    "    \n",
    "        inputPE  = ProgressiveError(input,  mode=mode).to(device)\n",
    "        inputSRC = SourceGen(input, bitwidth, mode=mode, rtype=rtype)().to(device)\n",
    "\n",
    "        dut = UnaryAbs(depth=depth, shiftreg=shiftreg, interleave=interleave).to(device)\n",
    "        \n",
    "        inputRNG = RNG(bitwidth, rand_idx, rng, rtype)().to(device)\n",
    "        inputBS = BSGen(inputSRC, inputRNG, stype).to(device)\n",
    "        with torch.no_grad():\n",
    "            start_time = time.time()\n",
    "            for i in range(2**bitwidth):\n",
    "                input_bs = inputBS(torch.tensor([i]))\n",
    "                inputPE.Monitor(input_bs)\n",
    "\n",
    "                _, output_bs = dut(input_bs)\n",
    "                outputPE.Monitor(output_bs)\n",
    "        \n",
    "        # get the result for different rng\n",
    "        result_pe = outputPE()[1].cpu().numpy()\n",
    "        result_pe_total.append(result_pe)\n",
    "    \n",
    "    # get the result for different rng\n",
    "    result_pe_total = np.array(result_pe_total)\n",
    "    \n",
    "    #######################################################################\n",
    "    # check the error of all simulation\n",
    "    #######################################################################\n",
    "    print(\"RMSE:{:1.4}\".format(np.sqrt(np.mean(result_pe_total**2))))\n",
    "    print(\"MAE: {:1.4}\".format(np.mean(np.abs(result_pe_total))))\n",
    "    print(\"bias:{:1.4}\".format(np.mean(result_pe_total)))\n",
    "    print(\"max: {:1.4}\".format(np.max(result_pe_total)))\n",
    "    print(\"min: {:1.4}\".format(np.min(result_pe_total)))\n",
    "\n",
    "    #######################################################################\n",
    "    # check the error according to input value\n",
    "    #######################################################################\n",
    "    max_total = np.max(result_pe_total, axis=0)\n",
    "    min_total = np.min(result_pe_total, axis=0)\n",
    "    avg_total = np.mean(result_pe_total, axis=0)\n",
    "    \n",
    "    axis_len = outputPE()[1].size()[0]\n",
    "    input_x_axis = []\n",
    "    for axis_index in range(axis_len):\n",
    "        input_x_axis.append((axis_index/(axis_len-1)*(up_bound-low_bound)+low_bound)/up_bound)\n",
    "    fig, ax = plt.subplots()\n",
    "    ax.fill_between(input_x_axis, max_total, avg_total, facecolor=\"red\", alpha=0.75)\n",
    "    ax.fill_between(input_x_axis, avg_total, min_total, facecolor=\"blue\", alpha=0.75)\n",
    "    ax.plot(input_x_axis, avg_total, label='Avg error', color=\"black\", linewidth=0.3)\n",
    "    plt.tight_layout()\n",
    "    plt.xlabel('Input value')\n",
    "    plt.ylabel('Output error')\n",
    "    plt.xticks(np.arange(-1.1, 1.1, step=0.5))\n",
    "    # ax.xaxis.set_ticklabels([])\n",
    "    plt.xlim(-1, 1)\n",
    "    plt.yticks(np.arange(-1.1, 1.1, step=0.2))\n",
    "    # ax.yaxis.set_ticklabels([])\n",
    "    plt.ylim(-1, 1)\n",
    "    plt.grid(b=True, which=\"both\", axis=\"y\", linestyle=\"--\", color=\"grey\", linewidth=0.3)\n",
    "    fig.set_size_inches(2, 2)\n",
    "    ax.spines['right'].set_visible(False)\n",
    "    ax.spines['top'].set_visible(False)\n",
    "    plt.show()\n",
    "    plt.close()"
   ]
  },
  {
   "cell_type": "code",
   "execution_count": 5,
   "metadata": {
    "scrolled": false
   },
   "outputs": [
    {
     "name": "stdout",
     "output_type": "stream",
     "text": [
      "========================================================\n",
      "bipolar\n",
      "========================================================\n",
      "RMSE:0.01307\n",
      "MAE: 0.004554\n",
      "bias:-0.004554\n",
      "max: 0.0\n",
      "min: -0.2188\n"
     ]
    },
    {
     "data": {
      "image/png": "[encoded data removed]",
      "text/plain": [
       "<Figure size 144x144 with 1 Axes>"
      ]
     },
     "metadata": {
      "needs_background": "light"
     },
     "output_type": "display_data"
    },
    {
     "name": "stdout",
     "output_type": "stream",
     "text": [
      "========================================================\n",
      "bipolar\n",
      "========================================================\n",
      "RMSE:0.03497\n",
      "MAE: 0.02074\n",
      "bias:-0.02074\n",
      "max: 0.0\n",
      "min: -0.25\n"
     ]
    },
    {
     "data": {
      "image/png": "[encoded data removed]",
      "text/plain": [
       "<Figure size 144x144 with 1 Axes>"
      ]
     },
     "metadata": {
      "needs_background": "light"
     },
     "output_type": "display_data"
    }
   ],
   "source": [
    "test(rng=\"Sobol\", mode=\"bipolar\", bitwidth=8, total_cnt=5, depth=5, shiftreg=False, interleave=False)\n",
    "test(rng=\"SYS\", mode=\"bipolar\", bitwidth=8, total_cnt=5, depth=5, shiftreg=False, interleave=False)"
   ]
  },
  {
   "cell_type": "code",
   "execution_count": 6,
   "metadata": {},
   "outputs": [
    {
     "name": "stdout",
     "output_type": "stream",
     "text": [
      "========================================================\n",
      "bipolar\n",
      "========================================================\n",
      "RMSE:0.05657\n",
      "MAE: 0.02982\n",
      "bias:-0.02982\n",
      "max: 0.0\n",
      "min: -0.2734\n"
     ]
    },
    {
     "data": {
      "image/png": "[encoded data removed]",
      "text/plain": [
       "<Figure size 144x144 with 1 Axes>"
      ]
     },
     "metadata": {
      "needs_background": "light"
     },
     "output_type": "display_data"
    },
    {
     "name": "stdout",
     "output_type": "stream",
     "text": [
      "========================================================\n",
      "bipolar\n",
      "========================================================\n",
      "RMSE:0.09773\n",
      "MAE: 0.0624\n",
      "bias:-0.06055\n",
      "max: 0.05469\n",
      "min: -0.3047\n"
     ]
    },
    {
     "data": {
      "image/png": "[encoded data removed]",
      "text/plain": [
       "<Figure size 144x144 with 1 Axes>"
      ]
     },
     "metadata": {
      "needs_background": "light"
     },
     "output_type": "display_data"
    }
   ],
   "source": [
    "test(rng=\"Sobol\", mode=\"bipolar\", bitwidth=8, total_cnt=5, depth=8, shiftreg=True, interleave=False)\n",
    "test(rng=\"SYS\", mode=\"bipolar\", bitwidth=8, total_cnt=5, depth=8, shiftreg=True, interleave=False)"
   ]
  },
  {
   "cell_type": "code",
   "execution_count": 7,
   "metadata": {},
   "outputs": [
    {
     "name": "stdout",
     "output_type": "stream",
     "text": [
      "========================================================\n",
      "bipolar\n",
      "========================================================\n",
      "RMSE:0.08329\n",
      "MAE: 0.06478\n",
      "bias:-0.06478\n",
      "max: -0.007812\n",
      "min: -1.0\n"
     ]
    },
    {
     "data": {
      "image/png": "[encoded data removed]",
      "text/plain": [
       "<Figure size 144x144 with 1 Axes>"
      ]
     },
     "metadata": {
      "needs_background": "light"
     },
     "output_type": "display_data"
    },
    {
     "name": "stdout",
     "output_type": "stream",
     "text": [
      "========================================================\n",
      "bipolar\n",
      "========================================================\n",
      "RMSE:0.0659\n",
      "MAE: 0.06438\n",
      "bias:-0.06438\n",
      "max: -0.02344\n",
      "min: -0.2031\n"
     ]
    },
    {
     "data": {
      "image/png": "[encoded data removed]",
      "text/plain": [
       "<Figure size 144x144 with 1 Axes>"
      ]
     },
     "metadata": {
      "needs_background": "light"
     },
     "output_type": "display_data"
    }
   ],
   "source": [
    "test(rng=\"Sobol\", mode=\"bipolar\", bitwidth=8, total_cnt=5, depth=5, shiftreg=False, interleave=True)\n",
    "test(rng=\"SYS\", mode=\"bipolar\", bitwidth=8, total_cnt=5, depth=5, shiftreg=False, interleave=True)"
   ]
  },
  {
   "cell_type": "code",
   "execution_count": null,
   "metadata": {},
   "outputs": [],
   "source": []
  }
 ],
 "metadata": {
  "kernelspec": {
   "display_name": "Python 3",
   "language": "python",
   "name": "python3"
  },
  "language_info": {
   "codemirror_mode": {
    "name": "ipython",
    "version": 3
   },
   "file_extension": ".py",
   "mimetype": "text/x-python",
   "name": "python",
   "nbconvert_exporter": "python",
   "pygments_lexer": "ipython3",
   "version": "3.7.3"
  }
 },
 "nbformat": 4,
 "nbformat_minor": 2
}
