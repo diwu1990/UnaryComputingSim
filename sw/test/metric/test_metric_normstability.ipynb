{
 "cells": [
  {
   "cell_type": "code",
   "execution_count": 1,
   "metadata": {},
   "outputs": [],
   "source": [
    "%load_ext autoreload\n",
    "%autoreload 2"
   ]
  },
  {
   "cell_type": "code",
   "execution_count": 2,
   "metadata": {},
   "outputs": [],
   "source": [
    "import torch\n",
    "from UnarySim.sw.metric.metric import NormStability, Stability\n",
    "from UnarySim.sw.stream.gen import RNG, SourceGen, BSGen\n",
    "import random\n",
    "import time"
   ]
  },
  {
   "cell_type": "code",
   "execution_count": 3,
   "metadata": {
    "scrolled": false
   },
   "outputs": [
    {
     "name": "stdout",
     "output_type": "stream",
     "text": [
      "norm stability: tensor([[1., 1., 1.,  ..., 1., 1., 1.]])\n",
      "\n",
      "stability: tensor([[0.9961, 0.9961, 0.9961,  ..., 0.9961, 0.9961, 0.9961]])\n",
      "--- 0.3139986991882324 seconds ---\n"
     ]
    }
   ],
   "source": [
    "width = 8\n",
    "length = 2**width\n",
    "device = torch.device(\"cpu\")\n",
    "\n",
    "dim = 1\n",
    "val = [1.0*_/length/length for _ in range(length**2+1)]\n",
    "# val = [0.0, 0.00390625, 0.0078125]\n",
    "val_tensor = torch.tensor([val])\n",
    "val_bin = SourceGen(val_tensor, width, \"unipolar\")\n",
    "rng = RNG(width, dim, \"Sobol\").to(device)\n",
    "bs = BSGen(val_bin(), rng())\n",
    "normstb = NormStability(val_tensor, mode=\"unipolar\", threshold=0.05).to(device)\n",
    "stb = Stability(val_tensor, mode=\"unipolar\", threshold=0.05).to(device)\n",
    "start_time = time.time()\n",
    "for _ in range(length):\n",
    "    a = bs(torch.tensor([_]))\n",
    "    normstb.Monitor(a)\n",
    "    stb.Monitor(a)\n",
    "print(\"norm stability:\", normstb())\n",
    "print()\n",
    "print(\"stability:\", stb())\n",
    "print(\"--- %s seconds ---\" % (time.time() - start_time))"
   ]
  },
  {
   "cell_type": "code",
   "execution_count": null,
   "metadata": {},
   "outputs": [],
   "source": []
  }
 ],
 "metadata": {
  "kernelspec": {
   "display_name": "Python 3",
   "language": "python",
   "name": "python3"
  },
  "language_info": {
   "codemirror_mode": {
    "name": "ipython",
    "version": 3
   },
   "file_extension": ".py",
   "mimetype": "text/x-python",
   "name": "python",
   "nbconvert_exporter": "python",
   "pygments_lexer": "ipython3",
   "version": "3.7.3"
  }
 },
 "nbformat": 4,
 "nbformat_minor": 2
}
