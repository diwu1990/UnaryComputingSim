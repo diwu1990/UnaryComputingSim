{
 "cells": [
  {
   "cell_type": "code",
   "execution_count": 1,
   "metadata": {},
   "outputs": [],
   "source": [
    "%load_ext autoreload\n",
    "%autoreload 2"
   ]
  },
  {
   "cell_type": "code",
   "execution_count": 2,
   "metadata": {},
   "outputs": [],
   "source": [
    "import torch\n",
    "from UnarySim.sw.metric.metric import NormStability, NSbuilder, Stability, ProgressiveError\n",
    "from UnarySim.sw.stream.gen import RNG, SourceGen, BSGen\n",
    "from UnarySim.sw.kernel.div import UnaryDiv\n",
    "import random\n",
    "import matplotlib.pyplot as plt\n",
    "from mpl_toolkits.mplot3d import Axes3D\n",
    "from matplotlib import ticker, cm\n",
    "from matplotlib.ticker import LinearLocator, FormatStrFormatter\n",
    "import time\n",
    "import math\n",
    "import numpy as np\n",
    "import seaborn as sns\n",
    "from tqdm import tqdm"
   ]
  },
  {
   "cell_type": "code",
   "execution_count": 3,
   "metadata": {},
   "outputs": [],
   "source": [
    "device = torch.device(\"cuda:0\" if torch.cuda.is_available() else \"cpu\")\n",
    "device = torch.device(\"cpu\")"
   ]
  },
  {
   "cell_type": "code",
   "execution_count": 4,
   "metadata": {
    "scrolled": false
   },
   "outputs": [],
   "source": [
    "def test(\n",
    "    rng=\"Sobol\", \n",
    "    total_cnt=100, \n",
    "    mode=\"unipolar\", \n",
    "    bitwidth=8, \n",
    "    threshold=0.05\n",
    "):\n",
    "    ns_val=[0.25, 0.5, 0.75]\n",
    "    stype = torch.float\n",
    "    rtype = torch.float\n",
    "    \n",
    "    pbar = tqdm(total=3*total_cnt*(2**bitwidth))\n",
    "    if mode is \"unipolar\":\n",
    "        # all values in unipolar are non-negative\n",
    "        low_bound = 0\n",
    "        up_bound = 2**bitwidth\n",
    "    elif mode is \"bipolar\":\n",
    "        # values in bipolar are arbitrarily positive or negative\n",
    "        low_bound = -2**(bitwidth-1)\n",
    "        up_bound = 2**(bitwidth-1)\n",
    "\n",
    "    # input0 is dividend\n",
    "    input0 = []\n",
    "    input1 = []\n",
    "    for dim_y in range(up_bound, low_bound-1, -1):\n",
    "        input0.append([])\n",
    "        input1.append([])\n",
    "        for dim_x in range(low_bound, up_bound+1, 1):\n",
    "            input0[up_bound-dim_y].append(dim_y)\n",
    "            input1[up_bound-dim_y].append(dim_x)\n",
    "\n",
    "    input0 = torch.tensor(input0, dtype=torch.float).div(up_bound).to(device)\n",
    "    input1 = torch.tensor(input1, dtype=torch.float).div(up_bound).to(device)\n",
    "    output = (input1/input0).to(device)\n",
    "    \n",
    "    # find the invalid postions in quotient\n",
    "    output_nan = torch.isnan(output)\n",
    "    output_inf = torch.isinf(output)\n",
    "    output_mask = output_nan + output_inf\n",
    "    output[output_mask] = 0\n",
    "    output = output.clamp(-1, 1)\n",
    "    \n",
    "    for ns in ns_val:\n",
    "        print(\"# # # # # # # # # # # # # # # # # #\")\n",
    "        print(\"Target normstab:\", ns)\n",
    "        print(\"# # # # # # # # # # # # # # # # # #\")\n",
    "\n",
    "        result_ns_total = []\n",
    "        input_ns_total = []\n",
    "        output_ns_total = []\n",
    "\n",
    "        for rand_idx in range(1, total_cnt+1):\n",
    "            outputNS = NormStability(output, mode=mode, threshold=threshold).to(device)\n",
    "\n",
    "            input0NS = NormStability(input0, mode=mode, threshold=threshold).to(device)\n",
    "            input1NS = NormStability(input1, mode=mode, threshold=threshold).to(device)\n",
    "\n",
    "            dut = UnaryDiv(depth_abs=3, \n",
    "                           depth_kernel=2, \n",
    "                           depth_sync=2, \n",
    "                           shiftreg_abs=False, \n",
    "                           mode=mode, \n",
    "                           rng=rng, \n",
    "                           rng_dim=4).to(device)\n",
    "\n",
    "            input0BSGen = NSbuilder(bitwidth=bitwidth, \n",
    "                                    mode=mode, \n",
    "                                    normstability=ns, \n",
    "                                    threshold=threshold, \n",
    "                                    value=input0, \n",
    "                                    rng_dim=rand_idx).to(device)\n",
    "            \n",
    "            input1BSGen = NSbuilder(bitwidth=bitwidth, \n",
    "                                    mode=mode, \n",
    "                                    normstability=ns, \n",
    "                                    threshold=threshold, \n",
    "                                    value=input1, \n",
    "                                    rng_dim=rand_idx+1).to(device)\n",
    "\n",
    "            start_time = time.time()\n",
    "            with torch.no_grad():\n",
    "                for i in range(2**bitwidth):\n",
    "                    input0_bs = input0BSGen()\n",
    "                    input1_bs = input1BSGen()\n",
    "\n",
    "                    input0NS.Monitor(input0_bs)\n",
    "                    input1NS.Monitor(input1_bs)\n",
    "\n",
    "                    output_bs = dut(input1_bs, input0_bs)\n",
    "                    outputNS.Monitor(output_bs)\n",
    "                    pbar.update(1)\n",
    "\n",
    "            # get the result for different rng\n",
    "            input0_ns = input0NS()\n",
    "            input1_ns = input1NS()\n",
    "            input_ns = (input0_ns + input1_ns)/2\n",
    "            output_ns = outputNS()\n",
    "    \n",
    "            result_ns = (output_ns/input_ns).clamp(0, 1).cpu().numpy()\n",
    "            result_ns[output_mask.cpu().numpy()] = np.nan\n",
    "            result_ns_total.append(result_ns)\n",
    "            input_ns = input_ns.cpu().numpy()\n",
    "            input_ns[output_mask.cpu().numpy()] = np.nan\n",
    "            input_ns_total.append(input_ns)\n",
    "            output_ns = output_ns.cpu().numpy()\n",
    "            output_ns[output_mask.cpu().numpy()] = np.nan\n",
    "            output_ns_total.append(output_ns)\n",
    "            # print(\"--- %s seconds ---\" % (time.time() - start_time))\n",
    "\n",
    "        # get the result for different rng\n",
    "        result_ns_total = np.array(result_ns_total)\n",
    "        input_ns_total = np.array(input_ns_total)\n",
    "        output_ns_total = np.array(output_ns_total)\n",
    "        #######################################################################\n",
    "        # check the error of all simulation\n",
    "        #######################################################################\n",
    "        input_ns_total_no_nan = input_ns_total[~np.isnan(input_ns_total)]\n",
    "        print(\"avg I NS:{:1.4}\".format(np.mean(input_ns_total_no_nan)))\n",
    "        print(\"max I NS:{:1.4}\".format(np.max(input_ns_total_no_nan)))\n",
    "        print(\"min I NS:{:1.4}\".format(np.min(input_ns_total_no_nan)))\n",
    "        print()\n",
    "        output_ns_total_no_nan = output_ns_total[~np.isnan(output_ns_total)]\n",
    "        print(\"avg O NS:{:1.4}\".format(np.mean(output_ns_total_no_nan)))\n",
    "        print(\"max O NS:{:1.4}\".format(np.max(output_ns_total_no_nan)))\n",
    "        print(\"min O NS:{:1.4}\".format(np.min(output_ns_total_no_nan)))\n",
    "        print()\n",
    "        result_ns_total_no_nan = result_ns_total[~np.isnan(result_ns_total)]\n",
    "        print(\"avg O/I NS:{:1.4}\".format(np.mean(result_ns_total_no_nan)))\n",
    "        print(\"max O/I NS:{:1.4}\".format(np.max(result_ns_total_no_nan)))\n",
    "        print(\"min O/I NS:{:1.4}\".format(np.min(result_ns_total_no_nan)))\n",
    "        print()\n",
    "\n",
    "        #######################################################################\n",
    "        # check the error according to input value\n",
    "        #######################################################################\n",
    "        avg_total = np.mean(result_ns_total, axis=0)\n",
    "        avg_total[output_mask.cpu().numpy()] = 0\n",
    "        fig, ax = plt.subplots()\n",
    "        fig.set_size_inches(5.5, 4)\n",
    "        axis_len = outputNS()[1].size()[0]\n",
    "        y_axis = []\n",
    "        x_axis = []\n",
    "        for axis_index in range(axis_len):\n",
    "            y_axis.append((up_bound-axis_index/(axis_len-1)*(up_bound-low_bound))/up_bound)\n",
    "            x_axis.append((axis_index/(axis_len-1)*(up_bound-low_bound)+low_bound)/up_bound)\n",
    "        X, Y = np.meshgrid(x_axis, y_axis)\n",
    "        Z = avg_total\n",
    "        levels = [0.4, 0.5, 0.6, 0.7, 0.8, 0.9, 1.0]\n",
    "        cs = plt.contourf(X, Y, Z, levels, cmap=cm.RdBu, extend=\"both\")\n",
    "        cbar = fig.colorbar(cs)\n",
    "\n",
    "        # plt.tight_layout()\n",
    "        plt.xticks(np.arange(low_bound/up_bound, up_bound/up_bound+0.1, step=0.5))\n",
    "        # ax.xaxis.set_ticklabels([])\n",
    "        plt.yticks(np.arange(low_bound/up_bound, up_bound/up_bound+0.1, step=0.5))\n",
    "        # ax.yaxis.set_ticklabels([])\n",
    "\n",
    "        plt.show()\n",
    "        plt.close()\n",
    "    pbar.close()"
   ]
  },
  {
   "cell_type": "code",
   "execution_count": 5,
   "metadata": {
    "scrolled": false
   },
   "outputs": [
    {
     "name": "stderr",
     "output_type": "stream",
     "text": [
      "\r",
      "  0%|          | 0/76800 [00:00<?, ?it/s]"
     ]
    },
    {
     "name": "stdout",
     "output_type": "stream",
     "text": [
      "# # # # # # # # # # # # # # # # # #\n",
      "Target normstab: 0.25\n",
      "# # # # # # # # # # # # # # # # # #\n"
     ]
    },
    {
     "name": "stderr",
     "output_type": "stream",
     "text": [
      " 33%|███▎      | 25596/76800 [06:30<07:43, 110.47it/s]"
     ]
    },
    {
     "name": "stdout",
     "output_type": "stream",
     "text": [
      "avg I NS:0.3028\n",
      "max I NS:1.0\n",
      "min I NS:0.1797\n",
      "\n",
      "avg O NS:0.4894\n",
      "max O NS:1.0\n",
      "min O NS:0.0\n",
      "\n",
      "avg O/I NS:0.6755\n",
      "max O/I NS:1.0\n",
      "min O/I NS:0.0\n",
      "\n"
     ]
    },
    {
     "data": {
      "image/png": "[encoded data removed]",
      "text/plain": [
       "<Figure size 396x288 with 2 Axes>"
      ]
     },
     "metadata": {
      "needs_background": "light"
     },
     "output_type": "display_data"
    },
    {
     "name": "stdout",
     "output_type": "stream",
     "text": [
      "# # # # # # # # # # # # # # # # # #\n",
      "Target normstab: 0.5\n",
      "# # # # # # # # # # # # # # # # # #\n"
     ]
    },
    {
     "name": "stderr",
     "output_type": "stream",
     "text": [
      " 67%|██████▋   | 51198/76800 [12:52<03:18, 128.97it/s]"
     ]
    },
    {
     "name": "stdout",
     "output_type": "stream",
     "text": [
      "avg I NS:0.5022\n",
      "max I NS:1.0\n",
      "min I NS:0.3574\n",
      "\n",
      "avg O NS:0.5478\n",
      "max O NS:1.0\n",
      "min O NS:0.0\n",
      "\n",
      "avg O/I NS:0.7058\n",
      "max O/I NS:1.0\n",
      "min O/I NS:0.0\n",
      "\n"
     ]
    },
    {
     "data": {
      "image/png": "[encoded data removed]",
      "text/plain": [
       "<Figure size 396x288 with 2 Axes>"
      ]
     },
     "metadata": {
      "needs_background": "light"
     },
     "output_type": "display_data"
    },
    {
     "name": "stdout",
     "output_type": "stream",
     "text": [
      "# # # # # # # # # # # # # # # # # #\n",
      "Target normstab: 0.75\n",
      "# # # # # # # # # # # # # # # # # #\n"
     ]
    },
    {
     "name": "stderr",
     "output_type": "stream",
     "text": [
      "100%|█████████▉| 76799/76800 [17:49<00:00, 147.08it/s]"
     ]
    },
    {
     "name": "stdout",
     "output_type": "stream",
     "text": [
      "avg I NS:0.6951\n",
      "max I NS:1.0\n",
      "min I NS:0.543\n",
      "\n",
      "avg O NS:0.5934\n",
      "max O NS:1.0\n",
      "min O NS:0.0\n",
      "\n",
      "avg O/I NS:0.7097\n",
      "max O/I NS:1.0\n",
      "min O/I NS:0.0\n",
      "\n"
     ]
    },
    {
     "data": {
      "image/png": "[encoded data removed]",
      "text/plain": [
       "<Figure size 396x288 with 2 Axes>"
      ]
     },
     "metadata": {
      "needs_background": "light"
     },
     "output_type": "display_data"
    },
    {
     "name": "stderr",
     "output_type": "stream",
     "text": [
      "100%|██████████| 76800/76800 [17:50<00:00, 71.73it/s] \n"
     ]
    }
   ],
   "source": [
    "test(rng=\"Sobol\", total_cnt=100, mode=\"unipolar\", bitwidth=8, threshold=0.05)"
   ]
  },
  {
   "cell_type": "code",
   "execution_count": null,
   "metadata": {},
   "outputs": [],
   "source": []
  }
 ],
 "metadata": {
  "kernelspec": {
   "display_name": "Python 3",
   "language": "python",
   "name": "python3"
  },
  "language_info": {
   "codemirror_mode": {
    "name": "ipython",
    "version": 3
   },
   "file_extension": ".py",
   "mimetype": "text/x-python",
   "name": "python",
   "nbconvert_exporter": "python",
   "pygments_lexer": "ipython3",
   "version": "3.7.3"
  }
 },
 "nbformat": 4,
 "nbformat_minor": 2
}
